{
 "cells": [
  {
   "cell_type": "markdown",
   "metadata": {},
   "source": [
    "Q1. What is a database? Differentiate between SQL and NoSQL databases."
   ]
  },
  {
   "cell_type": "raw",
   "metadata": {},
   "source": [
    "A database is a collection of data in an organized manner.\n",
    "\n",
    "SQL (Structured Query Language) Database - It is a database that stores data in a structured way in the form of collection of rows and columns known as tables. CRUD operations\n",
    "                                            are carried out through different queries. For example, MySQL, PostgreSQL, Oracle. etc.\n",
    "\n",
    "NoSQL (Not only Structured Query Language) Database - It is a database that stores the data in a flexible manner. For example, MongoDB, Cassandra, GraphQL, etc."
   ]
  },
  {
   "cell_type": "markdown",
   "metadata": {},
   "source": [
    "Q2. What is DDL? Explain why CREATE, DROP, ALTER, and TRUNCATE are used with an example."
   ]
  },
  {
   "cell_type": "raw",
   "metadata": {},
   "source": [
    "DDL stands for Data Definition Language. It refers to designing the structure of a database. In MySQL, thier are four types of DDl commands:-\n",
    "1) CREATE - It is used to create a new database which does not exists.\n",
    "2) DROP - It is used to drop (delete) a database.\n",
    "3) ALTER - It is used to alter/change the properties of a table.\n",
    "4) TRUNCATE - It deletes all the records from a table, but not the whole table."
   ]
  },
  {
   "cell_type": "raw",
   "metadata": {},
   "source": [
    "CREATE DATABASE if not exists <database_name>;\n",
    "\n",
    "DROP DATABASE <database_name>;\n",
    "\n",
    "ALTER TABLE <table_name>\n",
    "ADD <column_name> <datatype>;\n",
    "\n",
    "ALTER TABLE <table_name>\n",
    "DROP COLUMN <column_name>;\n",
    "\n",
    "ALTER TABLE <table_name>\n",
    "RENAME COLUMN <old_name> to <new_name>;\n",
    "\n",
    "ALTER TABLE <table_name>\n",
    "MODIFY COLUMN <column_name> <datatype>;\n",
    "\n",
    "TRUNCATE TABLE <table_name>;"
   ]
  },
  {
   "cell_type": "markdown",
   "metadata": {},
   "source": [
    "Q3. What is DML? Explain INSERT, UPDATE, and DELETE with an example."
   ]
  },
  {
   "cell_type": "raw",
   "metadata": {},
   "source": [
    "DML or Data Manipulation Language is a language which is used to manipulate data in a database.\n",
    "\n",
    "1) INSERT - It is used to insert the data in a table.\n",
    "2) UPDATE - It is used to modify existing data in a table.\n",
    "3) DELETE - It is used to delete the data from a table."
   ]
  },
  {
   "cell_type": "raw",
   "metadata": {},
   "source": [
    "INSERT INTO <table_name> (column1,column2,column3,.....)\n",
    "\n",
    "UPDATE <table_name>\n",
    "SET <column1> = <value1>, <column2> = <value2>, ...\n",
    "WHERE condition;\n",
    "\n",
    "DELETE FROM <table_name> WHERE condition;"
   ]
  },
  {
   "cell_type": "markdown",
   "metadata": {},
   "source": [
    "Q4. What is DQL? Explain SELECT with an example."
   ]
  },
  {
   "cell_type": "raw",
   "metadata": {},
   "source": [
    "DQL or Data Query Language helps us to get the data from a database and organise it.\n",
    "\n",
    "SELECT - It is used to retrieve the informatio form a table."
   ]
  },
  {
   "cell_type": "raw",
   "metadata": {},
   "source": [
    "SELECT <column1>,<column2>,... FROM <table_name>\n",
    "\n",
    "SELECT * FROM <table_name>"
   ]
  },
  {
   "cell_type": "markdown",
   "metadata": {},
   "source": [
    "Q5. Explain Primary Key and Foreign Key."
   ]
  },
  {
   "cell_type": "raw",
   "metadata": {},
   "source": [
    "Primary Key - Primary key refers to a column in a table which has unique values. Null values are not allowed in primary key column. Only one primary key os allowed in a table.\n",
    "\n",
    "Foreign Key - Foreign key refers to a column in a table which is a primart key column of another table. It may contain null values. It may consist of one or more columns. More than\n",
    "                one foreign keys are allowed in a table."
   ]
  },
  {
   "cell_type": "markdown",
   "metadata": {},
   "source": [
    "Q6. Write a python code to connect MySQL to python. Explain the cursor() and execute() method."
   ]
  },
  {
   "cell_type": "raw",
   "metadata": {},
   "source": [
    "import mysql.connector\n",
    "\n",
    "mydb = mysql.connector.connect(\n",
    "        host = \"localhost\",\n",
    "        user = \"<mysql_username>\",\n",
    "        password = \"<mysql_password>\"\n",
    ")\n",
    "mycursor = mydb.cursor()\n",
    "mycursor.execute(\"CREATE DATABASE IF NOT EXISTS test_database\")\n",
    "mydb.close()"
   ]
  },
  {
   "cell_type": "raw",
   "metadata": {},
   "source": [
    "cursor() method is used to create a cursor for our database which helps us to execute SQL queries through python.\n",
    "execute() method is used with the cursor created using cursor() method. Through this method, we can execute MySQL queries through python."
   ]
  },
  {
   "cell_type": "markdown",
   "metadata": {},
   "source": [
    "Q7. Give the order of execution of SQL clauses in an SQL query."
   ]
  },
  {
   "cell_type": "raw",
   "metadata": {},
   "source": [
    "1) FROM and JOIN\n",
    "2) WHERE\n",
    "3) GROUP BY\n",
    "4) HAVING\n",
    "5) SELECT\n",
    "6) DISTINCT\n",
    "7) ORDER BY\n",
    "8) LIMIT/OFFSET"
   ]
  }
 ],
 "metadata": {
  "kernelspec": {
   "display_name": "Python 3 (ipykernel)",
   "language": "python",
   "name": "python3"
  },
  "language_info": {
   "codemirror_mode": {
    "name": "ipython",
    "version": 3
   },
   "file_extension": ".py",
   "mimetype": "text/x-python",
   "name": "python",
   "nbconvert_exporter": "python",
   "pygments_lexer": "ipython3",
   "version": "3.11.4"
  }
 },
 "nbformat": 4,
 "nbformat_minor": 2
}
