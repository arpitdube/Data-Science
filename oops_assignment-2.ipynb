{
 "cells": [
  {
   "cell_type": "markdown",
   "metadata": {},
   "source": [
    "Q1. What is Abstraction in OOps? Explain with an example."
   ]
  },
  {
   "cell_type": "code",
   "execution_count": 1,
   "metadata": {},
   "outputs": [
    {
     "name": "stdout",
     "output_type": "stream",
     "text": [
      "This is High-Level Language\n",
      "This is most commonly used language in machine learning\n"
     ]
    }
   ],
   "source": [
    "# Abstraction is defined as hiding internal details of an object from outer world\n",
    "\n",
    "import abc\n",
    "class programming_languages:\n",
    "    \n",
    "    @abc.abstractclassmethod\n",
    "    def type_of_programming_lang(self):\n",
    "        pass\n",
    "    \n",
    "    @abc.abstractclassmethod\n",
    "    def used_in(self):\n",
    "        pass\n",
    "    \n",
    "class python(programming_languages):\n",
    "    \n",
    "    def type_of_programming_lang(self):\n",
    "        return \"This is High-Level Language\"\n",
    "    \n",
    "    def used_in(self):\n",
    "        return \"This is most commonly used language in machine learning\"\n",
    "    \n",
    "obj = python()\n",
    "print(obj.type_of_programming_lang())\n",
    "print(obj.used_in())"
   ]
  },
  {
   "cell_type": "markdown",
   "metadata": {},
   "source": [
    "Q2. Differentiate between Abstraction and Encapsulation. Explain with an example."
   ]
  },
  {
   "cell_type": "code",
   "execution_count": 14,
   "metadata": {},
   "outputs": [],
   "source": [
    "# Abstraction is used for methods whereas Encapsulation is used for class variables so that they are not directly accessible.\n",
    "\n",
    "# Encapsulation\n",
    "class Student:\n",
    "    \n",
    "    def __init__(self,name,roll_no,course):\n",
    "        self.__name = name\n",
    "        self.__roll_no = roll_no\n",
    "        self.__course = course\n",
    "        \n",
    "    @property\n",
    "    def get_details(self):\n",
    "        return self.__name,self.__roll_no,self.__course\n",
    "    \n",
    "    @get_details.setter\n",
    "    def set_details(self,new_details):\n",
    "        new_name,new_roll_no,new_course = new_details\n",
    "        self.__name = new_name\n",
    "        self.__roll_no = new_roll_no\n",
    "        self.__course = new_course\n",
    "        \n",
    "# Abstarction -> Example given above"
   ]
  },
  {
   "cell_type": "code",
   "execution_count": 15,
   "metadata": {},
   "outputs": [
    {
     "name": "stdout",
     "output_type": "stream",
     "text": [
      "('ABC', 15, 'Data Science Masters')\n",
      "('XYZ', 20, 'Web Development')\n"
     ]
    }
   ],
   "source": [
    "stu = Student(\"ABC\",15,\"Data Science Masters\")\n",
    "print(stu.get_details)\n",
    "stu.set_details = (\"XYZ\",20,\"Web Development\")\n",
    "print(stu.get_details)"
   ]
  },
  {
   "cell_type": "markdown",
   "metadata": {},
   "source": [
    "Q3. What is abc module in python? Why is it used?"
   ]
  },
  {
   "cell_type": "raw",
   "metadata": {},
   "source": [
    "'abc' module is used for implementing abstraction in Python."
   ]
  },
  {
   "cell_type": "markdown",
   "metadata": {},
   "source": [
    "Q4. How can we achieve data abstraction?"
   ]
  },
  {
   "cell_type": "raw",
   "metadata": {},
   "source": [
    "Data Abstraction can be achieved using 'abc' module in Python."
   ]
  },
  {
   "cell_type": "markdown",
   "metadata": {},
   "source": [
    "Q5. Can we create an instance of an abstract class? Explain your answer."
   ]
  },
  {
   "cell_type": "code",
   "execution_count": 1,
   "metadata": {},
   "outputs": [],
   "source": [
    "# To create an instance of an abstract class we have to create another class which inherits the abstract class and create the instance of this class.\n",
    "\n",
    "import abc\n",
    "class abstract_class:\n",
    "    \n",
    "    @abc.abstractclassmethod\n",
    "    def method1(self):\n",
    "        pass\n",
    "    \n",
    "class implement(abstract_class):\n",
    "    \n",
    "    def method1(self):\n",
    "        return \"Implemented the method1 of abstract_class\""
   ]
  },
  {
   "cell_type": "code",
   "execution_count": 5,
   "metadata": {},
   "outputs": [
    {
     "data": {
      "text/plain": [
       "'Implemented the method1 of abstract_class'"
      ]
     },
     "execution_count": 5,
     "metadata": {},
     "output_type": "execute_result"
    }
   ],
   "source": [
    "abs_obj = implement()\n",
    "abs_obj.method1()"
   ]
  }
 ],
 "metadata": {
  "kernelspec": {
   "display_name": "Python 3",
   "language": "python",
   "name": "python3"
  },
  "language_info": {
   "codemirror_mode": {
    "name": "ipython",
    "version": 3
   },
   "file_extension": ".py",
   "mimetype": "text/x-python",
   "name": "python",
   "nbconvert_exporter": "python",
   "pygments_lexer": "ipython3",
   "version": "3.11.4"
  },
  "orig_nbformat": 4
 },
 "nbformat": 4,
 "nbformat_minor": 2
}
