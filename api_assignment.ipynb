{
 "cells": [
  {
   "cell_type": "markdown",
   "metadata": {},
   "source": [
    "Q1. What is an API? Give an example, where an API is used in real life."
   ]
  },
  {
   "cell_type": "raw",
   "metadata": {},
   "source": [
    "An API(Application Programming Interface) helps two or more software components to communicate with each other through a set of protocols.\n",
    "For example, social media bots, Google Maps, financial apps, wheather apps, etc."
   ]
  },
  {
   "cell_type": "markdown",
   "metadata": {},
   "source": [
    "Q2. Give advantages and disadvantages of using API."
   ]
  },
  {
   "cell_type": "raw",
   "metadata": {},
   "source": [
    "Advantages:-\n",
    "1) Automation\n",
    "2) Developer efficiency and innovation\n",
    "3) Better user experinece\n",
    "4) Increased flexibility\n",
    "\n",
    "Disadvantages:-\n",
    "1) Security concerns\n",
    "2) Complexity\n",
    "3) Compatibility issues\n",
    "4) Dependency on Third-party developers\n",
    "5) Mantainance"
   ]
  },
  {
   "cell_type": "markdown",
   "metadata": {},
   "source": [
    "Q3. What is a Web API? Differentiate between API and Web API."
   ]
  },
  {
   "cell_type": "raw",
   "metadata": {},
   "source": [
    "A Web API specifically refers to an API that is designed to be accessed over the internet using the HTTP protocol. Web APIs are used for\n",
    "enabling communication and data exchange between different web-based applications or systems.\n",
    "\n",
    "API is a more general concept that includes various types of interfaces for communication between software components whereas, a Web API\n",
    "specifically refers to an API that uses the HTTP protocol to enable communication over the internet, often used in the context of\n",
    "web applications and services."
   ]
  },
  {
   "cell_type": "markdown",
   "metadata": {},
   "source": [
    "Q4. Explain REST and SOAP Architecture. Mention shortcomings of SOAP."
   ]
  },
  {
   "cell_type": "raw",
   "metadata": {},
   "source": [
    "REST (Representational State Transfer) Architecture -> It is an architectural style that provides guidelines for designing networked\n",
    "                                                       applications. It's commonly used for building web services and APIs. REST focuses\n",
    "                                                       on using standard HTTP methods (GET, POST, PUT, DELETE) to interact with resources\n",
    "                                                       represented by URLs.\n",
    "\n",
    "SOAP (Simple Object Access Protocol) Architecture -> SOAP is a protocol for exchanging structured information in the implementation of web\n",
    "                                                     services. It's a bit more complex as compared to REST. SOAP relies on XML as its message\n",
    "                                                     format and can work over a variety of protocols.\n",
    "Shortcomings of SOAP Architecture are :-\n",
    "1) Complexity\n",
    "2) Less Human-Friendly"
   ]
  },
  {
   "cell_type": "markdown",
   "metadata": {},
   "source": [
    "Q5. Differentiate between REST and SOAP."
   ]
  },
  {
   "cell_type": "raw",
   "metadata": {},
   "source": [
    "REST:-\n",
    "1) It uses standard HTTP methods like GET, POST, PUT, and DELETE to perform actions on resources identified by URLs.\n",
    "2) Often uses JSON or XML for message representation.\n",
    "3) Generally simpler and easier to understand.\n",
    "4) Supports caching, making it more efficient for repeated requests.\n",
    "5) Security mechanisms like HTTPS, tokens, and OAuth can be implemented easily.\n",
    "6) Can be faster due to its lightweight nature, especially for simple requests.\n",
    "\n",
    "SOAP:-\n",
    "1) It uses XML-based messages and can work over various protocols like HTTP, SMTP, and more.\n",
    "2) Uses XML for message format.\n",
    "3) Can be more complex due to its rigid XML structure and additional features.\n",
    "4) Typically has less built-in caching support.\n",
    "5) Provides a standardized security framework (WS-Security), but can be more complex to set up.\n",
    "6) Might have slightly slower performance due to the use of XML format and more complex structure."
   ]
  }
 ],
 "metadata": {
  "kernelspec": {
   "display_name": "base",
   "language": "python",
   "name": "python3"
  },
  "language_info": {
   "codemirror_mode": {
    "name": "ipython",
    "version": 3
   },
   "file_extension": ".py",
   "mimetype": "text/x-python",
   "name": "python",
   "nbconvert_exporter": "python",
   "pygments_lexer": "ipython3",
   "version": "3.11.4"
  },
  "orig_nbformat": 4
 },
 "nbformat": 4,
 "nbformat_minor": 2
}
