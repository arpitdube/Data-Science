{
 "cells": [
  {
   "cell_type": "markdown",
   "metadata": {},
   "source": [
    "Q1. Create a vehicle class with an init method having instance variables as name_of_vehicle, max_speed and average_of_vehicle."
   ]
  },
  {
   "cell_type": "code",
   "execution_count": 2,
   "metadata": {},
   "outputs": [],
   "source": [
    "class vehicle:\n",
    "    \n",
    "    def __init__(self,name_of_vehicle,max_speed,average_of_vehicle):\n",
    "        self.name_of_vehicle = name_of_vehicle\n",
    "        self.max_speed = max_speed\n",
    "        self.average_of_vehicle = average_of_vehicle"
   ]
  },
  {
   "cell_type": "code",
   "execution_count": 3,
   "metadata": {},
   "outputs": [],
   "source": [
    "v = vehicle(\"Car\",150,27)"
   ]
  },
  {
   "cell_type": "code",
   "execution_count": 4,
   "metadata": {},
   "outputs": [
    {
     "name": "stdout",
     "output_type": "stream",
     "text": [
      "Vehicle type -> Car\n",
      "Max speed = 150 kmph\n",
      "Average of vehicle = 27 km/L\n"
     ]
    }
   ],
   "source": [
    "print(f\"Vehicle type -> {v.name_of_vehicle}\")\n",
    "print(f\"Max speed = {v.max_speed} kmph\")\n",
    "print(f\"Average of vehicle = {v.average_of_vehicle} km/L\")"
   ]
  },
  {
   "cell_type": "markdown",
   "metadata": {},
   "source": [
    "Q2. Create a child class car from the vehicle class created in Que 1, which will inherit the vehicle class.\n",
    "Create a method named seating_capacity which takes capacity as an argument and returns the name of the vehicle and its seating capacity."
   ]
  },
  {
   "cell_type": "code",
   "execution_count": 5,
   "metadata": {},
   "outputs": [],
   "source": [
    "class car(vehicle):\n",
    "    \n",
    "    def seating_capacity(self,capacity):\n",
    "        return self.name_of_vehicle,capacity"
   ]
  },
  {
   "cell_type": "code",
   "execution_count": 9,
   "metadata": {},
   "outputs": [
    {
     "name": "stdout",
     "output_type": "stream",
     "text": [
      "Vehicle name is Innova and its capacity is 6\n"
     ]
    }
   ],
   "source": [
    "child_obj = car(\"Innova\",180,27)\n",
    "t = child_obj.seating_capacity(6)\n",
    "print(f\"Vehicle name is {t[0]} and its capacity is {t[1]}\")"
   ]
  },
  {
   "cell_type": "markdown",
   "metadata": {},
   "source": [
    "Q3. What is multiple inheritance? Write a python code to demonstrate multiple inheritance."
   ]
  },
  {
   "cell_type": "code",
   "execution_count": 11,
   "metadata": {},
   "outputs": [],
   "source": [
    "# Multiple Inheritance means when one class inherits methods and attributes from more than one class\n",
    "\n",
    "class classA:\n",
    "    def methodA(self):\n",
    "        return \"This is a method in classA.\"\n",
    "\n",
    "class classB:\n",
    "    def methodB(self):\n",
    "        return \"This is a method in classB.\"\n",
    "    \n",
    "class classC(classA,classB):\n",
    "    pass"
   ]
  },
  {
   "cell_type": "code",
   "execution_count": 12,
   "metadata": {},
   "outputs": [
    {
     "name": "stdout",
     "output_type": "stream",
     "text": [
      "This is a method in classA.\n",
      "This is a method in classB.\n"
     ]
    }
   ],
   "source": [
    "classC_obj = classC()\n",
    "print(classC_obj.methodA())\n",
    "print(classC_obj.methodB())"
   ]
  },
  {
   "cell_type": "markdown",
   "metadata": {},
   "source": [
    "Q4. What are getter and setter in python? Create a class and create a getter and a setter method in this\n",
    "class."
   ]
  },
  {
   "cell_type": "code",
   "execution_count": 13,
   "metadata": {},
   "outputs": [],
   "source": [
    "# Getter and Setter are used to get and set the values of variables inside a class that cannot be accessed directly\n",
    "\n",
    "class student_details:\n",
    "    \n",
    "    def __init__(self,student_name,student_rollno,student_age):\n",
    "        self.__student_name = student_name\n",
    "        self.__student_rollno = student_rollno\n",
    "        self.__student_age = student_age\n",
    "        \n",
    "    def set_student_name(self,name):\n",
    "        self.__student_name = name\n",
    "        \n",
    "    def get_student_name(self):\n",
    "        return self.__student_name"
   ]
  },
  {
   "cell_type": "code",
   "execution_count": 16,
   "metadata": {},
   "outputs": [
    {
     "name": "stdout",
     "output_type": "stream",
     "text": [
      "Before using 'set_student_name' method -> Name = ABC\n",
      "After using 'set_student_name' method -> Name = XYZ\n"
     ]
    }
   ],
   "source": [
    "student_obj = student_details(\"ABC\",15,18)\n",
    "print(f\"Before using 'set_student_name' method -> Name = {student_obj.get_student_name()}\")\n",
    "student_obj.set_student_name(\"XYZ\")\n",
    "print(f\"After using 'set_student_name' method -> Name = {student_obj.get_student_name()}\")"
   ]
  },
  {
   "cell_type": "markdown",
   "metadata": {},
   "source": [
    "Q5.What is method overriding in python? Write a python code to demonstrate method overriding."
   ]
  },
  {
   "cell_type": "code",
   "execution_count": 23,
   "metadata": {},
   "outputs": [],
   "source": [
    "# Method overridong occurs when a child class (sub class) has same method as parent class (base class)\n",
    "\n",
    "class BaseClass:\n",
    "    \n",
    "    def method(self):\n",
    "        return \"This is method of parent class.\"\n",
    "    \n",
    "class SubClass(BaseClass):\n",
    "    \n",
    "    def method(self):\n",
    "        return \"This is method of child class.\""
   ]
  },
  {
   "cell_type": "code",
   "execution_count": 24,
   "metadata": {},
   "outputs": [
    {
     "name": "stdout",
     "output_type": "stream",
     "text": [
      "This is method of parent class.\n"
     ]
    }
   ],
   "source": [
    "parent_obj = BaseClass()\n",
    "print(parent_obj.method())"
   ]
  },
  {
   "cell_type": "code",
   "execution_count": 25,
   "metadata": {},
   "outputs": [
    {
     "name": "stdout",
     "output_type": "stream",
     "text": [
      "This is method of child class.\n"
     ]
    }
   ],
   "source": [
    "child_obj = SubClass()\n",
    "print(child_obj.method())"
   ]
  }
 ],
 "metadata": {
  "kernelspec": {
   "display_name": "Python 3",
   "language": "python",
   "name": "python3"
  },
  "language_info": {
   "codemirror_mode": {
    "name": "ipython",
    "version": 3
   },
   "file_extension": ".py",
   "mimetype": "text/x-python",
   "name": "python",
   "nbconvert_exporter": "python",
   "pygments_lexer": "ipython3",
   "version": "3.11.4"
  },
  "orig_nbformat": 4
 },
 "nbformat": 4,
 "nbformat_minor": 2
}
