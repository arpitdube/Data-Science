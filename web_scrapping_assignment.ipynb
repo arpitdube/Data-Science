{
 "cells": [
  {
   "cell_type": "markdown",
   "metadata": {},
   "source": [
    "Q1. What is Web Scraping? Why is it Used? Give three areas where Web Scraping is used to get data."
   ]
  },
  {
   "cell_type": "raw",
   "metadata": {},
   "source": [
    "Web Scraping is a technique through which we can extract information from a website. It is\n",
    "mainly used to extract information from a website which we can use further.\n",
    "Web Scraping is used in the following areas:-\n",
    "1) Price Comparsion & Competition Monitoring\n",
    "2) E-Commerce\n",
    "3) Data Analysis\n",
    "4) Training & Testing Data for Machine Learning Projects"
   ]
  },
  {
   "cell_type": "markdown",
   "metadata": {},
   "source": [
    "Q2. What are the different methods used for Web Scraping?"
   ]
  },
  {
   "cell_type": "raw",
   "metadata": {},
   "source": [
    "Different methods used for web scraping are:-\n",
    "1) HTML Parsing\n",
    "2) DOM Parsing\n",
    "3) Vertical Aggregation\n",
    "4) Google Sheets\n",
    "5) Text Pattern Matching"
   ]
  },
  {
   "cell_type": "markdown",
   "metadata": {},
   "source": [
    "Q3. What is Beautiful Soup? Why is it used?"
   ]
  },
  {
   "cell_type": "raw",
   "metadata": {},
   "source": [
    "Beautiful Soup is a Python tool used for beutifying the HTML text obtained during web scraping\n",
    "to make it more readable for us."
   ]
  },
  {
   "cell_type": "markdown",
   "metadata": {},
   "source": [
    "Q4. Why is flask used in this Web Scraping project?"
   ]
  },
  {
   "cell_type": "raw",
   "metadata": {},
   "source": [
    "Flask is used for creating the user interface so that we can take data/query from the user and provide the result."
   ]
  },
  {
   "cell_type": "markdown",
   "metadata": {},
   "source": [
    "Q5. Write the names of AWS services used in this project. Also, explain the use of each service."
   ]
  },
  {
   "cell_type": "raw",
   "metadata": {},
   "source": [
    "AWS services used in this project are :-\n",
    "1) Elastic Beanstack - It creates an environment and provides a system where our project could run.\n",
    "2) CodePipeline - It helps to connect github code with beanstack environment."
   ]
  }
 ],
 "metadata": {
  "kernelspec": {
   "display_name": "base",
   "language": "python",
   "name": "python3"
  },
  "language_info": {
   "codemirror_mode": {
    "name": "ipython",
    "version": 3
   },
   "file_extension": ".py",
   "mimetype": "text/x-python",
   "name": "python",
   "nbconvert_exporter": "python",
   "pygments_lexer": "ipython3",
   "version": "3.11.4"
  },
  "orig_nbformat": 4
 },
 "nbformat": 4,
 "nbformat_minor": 2
}
