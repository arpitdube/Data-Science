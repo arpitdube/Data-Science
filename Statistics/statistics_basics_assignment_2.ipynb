{
 "cells": [
  {
   "cell_type": "code",
   "execution_count": 6,
   "metadata": {},
   "outputs": [],
   "source": [
    "import numpy as np\n",
    "import seaborn as sns\n",
    "from scipy import stats"
   ]
  },
  {
   "cell_type": "markdown",
   "metadata": {},
   "source": [
    "**Q1. What are the three measures of central tendency?**"
   ]
  },
  {
   "cell_type": "markdown",
   "metadata": {},
   "source": [
    "Three measures of central tandency are:-\n",
    "1. Mean (Average)\n",
    "2. Median\n",
    "3. Mode"
   ]
  },
  {
   "cell_type": "markdown",
   "metadata": {},
   "source": [
    "**Q2. What is the difference between the mean, median, and mode? How are they used to measure the central tendency of a dataset?**"
   ]
  },
  {
   "cell_type": "markdown",
   "metadata": {},
   "source": [
    "1. Mean : The mean is used to find the arithmetic center or average of a dataset. It considers all values equally and is sensitive to outliers. A dataset's mean is the balance point where the sum of all values is minimized. \n",
    "\n",
    "2. Median : The median is the middle value in a dataset when the data points are arranged in ascending or descending order. If there is an even number of data points, the median is the average of the two middle values. It is less affected by the outliers. It is useful wwith skewed data or datasets with extreme values.  \n",
    "\n",
    "3. Mode : The mode is the value or values that occur with the highest frequency in a dataset. It is used to fill missing nominal data in the dataset."
   ]
  },
  {
   "cell_type": "markdown",
   "metadata": {},
   "source": [
    "**Q3. Measure the three measures of central tendency for the given height data:  [178,177,176,177,178.2,178,175,179,180,175,178.9,176.2,177,172.5,178,176.5]**"
   ]
  },
  {
   "cell_type": "code",
   "execution_count": 4,
   "metadata": {},
   "outputs": [
    {
     "name": "stdout",
     "output_type": "stream",
     "text": [
      "Mean = 177.01875\n",
      "Median = 177.0\n",
      "Mode = 177.0\n"
     ]
    }
   ],
   "source": [
    "heights = [178,177,176,177,178.2,178,175,179,180,175,178.9,176.2,177,172.5,178,176.5]\n",
    "print(f\"Mean = {np.mean(heights)}\")\n",
    "print(f\"Median = {np.median(heights)}\")\n",
    "print(f\"Mode = {stats.mode(heights)[0]}\")"
   ]
  },
  {
   "cell_type": "markdown",
   "metadata": {},
   "source": [
    "**Q4. Find the standard deviation for the given data:  [178,177,176,177,178.2,178,175,179,180,175,178.9,176.2,177,172.5,178,176.5]**"
   ]
  },
  {
   "cell_type": "code",
   "execution_count": 5,
   "metadata": {},
   "outputs": [
    {
     "name": "stdout",
     "output_type": "stream",
     "text": [
      "Standard Deviation : 1.7885814036548633\n"
     ]
    }
   ],
   "source": [
    "data = [178,177,176,177,178.2,178,175,179,180,175,178.9,176.2,177,172.5,178,176.5]\n",
    "print(f\"Standard Deviation : {np.std(data)}\")"
   ]
  },
  {
   "cell_type": "markdown",
   "metadata": {},
   "source": [
    "**Q5. How are measures of dispersion such as range, variance, and standard deviation used to describe the spread of a dataset? Provide an example.**"
   ]
  },
  {
   "cell_type": "markdown",
   "metadata": {},
   "source": [
    "1. Range : The range is the difference between the maximum and minimum values in a dataset. It provides a simple measure of the spread of data but it is sensitive to outliers.  \n",
    "2. Variance : Variance gives a more precise measure of dispersion than the range. It is also sensitive to ouliers.  \n",
    "3. Standard Deviation : Standard deviation measures the average distance between data points and the mean. It is square root of variance."
   ]
  },
  {
   "cell_type": "markdown",
   "metadata": {},
   "source": [
    "**Q6. What is a Venn diagram?**"
   ]
  },
  {
   "cell_type": "markdown",
   "metadata": {},
   "source": [
    "\n",
    "A Venn diagram is a graphical representation used to illustrate the relationships and commonalities between different sets or groups of objects or elements."
   ]
  },
  {
   "cell_type": "markdown",
   "metadata": {},
   "source": [
    "**Q7. For the two given sets A = (2,3,4,5,6,7) & B = (0,2,6,8,10). Find:  \n",
    "(i) A ∩ B  \n",
    "(ii) A ⋃ B**"
   ]
  },
  {
   "cell_type": "markdown",
   "metadata": {},
   "source": [
    "(i) {2,6}  \n",
    "(ii) {0,2,3,4,5,6,7,8,10}"
   ]
  },
  {
   "cell_type": "markdown",
   "metadata": {},
   "source": [
    "**Q8. What do you understand about skewness in data?**"
   ]
  },
  {
   "cell_type": "markdown",
   "metadata": {},
   "source": [
    "Skewness is a measure of the asymmetry or lack of symmetry in the distribution of data. It quantifies the degree to which a dataset deviates from a perfectly symmetrical, bell-shaped distribution (a normal distribution). Skewness indicates the direction and extent of the skew (tilt) in the distribution."
   ]
  },
  {
   "cell_type": "markdown",
   "metadata": {},
   "source": [
    "**Q9. If a data is right skewed then what will be the position of median with respect to mean?**"
   ]
  },
  {
   "cell_type": "markdown",
   "metadata": {},
   "source": [
    "If data is right skewed, then median is less than mean (i.e., mean comes after median)."
   ]
  },
  {
   "cell_type": "markdown",
   "metadata": {},
   "source": [
    "**Q10. Explain the difference between covariance and correlation. How are these measures used in statistical analysis?**"
   ]
  },
  {
   "cell_type": "markdown",
   "metadata": {},
   "source": [
    "Covariance measures the degree to which two variables change together. It indicates whether an increase in one variable corresponds to an increase or decrease in another variable. The range of covariance is unbounded, meaning it can take on any real value, including positive, negative, or zero. A positive covariance indicates that two variables are directly proportional to each other, i.e., if one variable increases or decreases, then the other variable also increases or decreases respectively.  \n",
    "\n",
    "Correlation provides more interpretable measure of association as compared to covariance. The range of correlation is between -1 to 1. If the value of correlation is nearer to 1, it indicates that the relation is more positive relationship. If the value of correlation is nearer to -1, it indicates that the relation is more negative. If the value of correlation is 0, this implies that no relationship exists between the variables."
   ]
  },
  {
   "cell_type": "markdown",
   "metadata": {},
   "source": [
    "**Q11. What is the formula for calculating the sample mean? Provide an example calculation for a dataset.**"
   ]
  },
  {
   "cell_type": "markdown",
   "metadata": {},
   "source": [
    "The formula to calculate sample mean of a given sample is: x̄ = (Σx) / n  \n",
    "For example, consider the following dataset:-"
   ]
  },
  {
   "cell_type": "code",
   "execution_count": 9,
   "metadata": {},
   "outputs": [
    {
     "name": "stdout",
     "output_type": "stream",
     "text": [
      "Average of total bill = 19.78594262295082\n"
     ]
    }
   ],
   "source": [
    "df = sns.load_dataset('tips')\n",
    "print(f\"Average of total bill = {np.mean(df['total_bill'])}\")"
   ]
  },
  {
   "cell_type": "markdown",
   "metadata": {},
   "source": [
    "**Q12. For a normal distribution data what is the relationship between its measure of central tendency?**"
   ]
  },
  {
   "cell_type": "markdown",
   "metadata": {},
   "source": [
    "For a normally distriburted data, mean = median = mode"
   ]
  },
  {
   "cell_type": "markdown",
   "metadata": {},
   "source": [
    "**Q13. How is covariance different from correlation?**"
   ]
  },
  {
   "cell_type": "markdown",
   "metadata": {},
   "source": [
    "Covariance measures the degree to which two variables change together. It indicates whether an increase in one variable corresponds to an increase or decrease in another variable. The range of covariance is unbounded, meaning it can take on any real value, including positive, negative, or zero. A positive covariance indicates that two variables are directly proportional to each other, i.e., if one variable increases or decreases, then the other variable also increases or decreases respectively.  \n",
    "\n",
    "Correlation provides more interpretable measure of association as compared to covariance. The range of correlation is between -1 to 1. If the value of correlation is nearer to 1, it indicates that the relation is more positive relationship. If the value of correlation is nearer to -1, it indicates that the relation is more negative. If the value of correlation is 0, this implies that no relationship exists between the variables."
   ]
  },
  {
   "cell_type": "markdown",
   "metadata": {},
   "source": [
    "**Q14. How do outliers affect measures of central tendency and dispersion? Provide an example.**"
   ]
  },
  {
   "cell_type": "markdown",
   "metadata": {},
   "source": [
    "Measures of Central Tendency:-  \n",
    "1. Mean : It is sensitive towards outliers and is highly affected by the outliers.  \n",
    "2. Median : It is less affected by the outliers. It represents the middle value when the data is sorted, so one or few outliers don't impact it as much.  \n",
    "3. Mode : It is not generally affected by the outliers, untill the outliers become most frequent values in the dataset.  \n",
    "\n",
    "Measures of Dispersion:-  \n",
    "1. Range : Outliers have significant impact on the range since it is the difference between the maximum and the minimum value in out dataset.  \n",
    "2. Variance & Standarad Deviation : Outliers can increase the variance and standard deviation because these measures take into account the squared differences between each data point and the mean. Outliers have a squared effect on these measures.  "
   ]
  },
  {
   "cell_type": "code",
   "execution_count": 22,
   "metadata": {},
   "outputs": [],
   "source": [
    "weight1 = [34,54,50,62,68,67,78,55,62,75,54]"
   ]
  },
  {
   "cell_type": "code",
   "execution_count": 23,
   "metadata": {},
   "outputs": [
    {
     "data": {
      "text/plain": [
       "59.90909090909091"
      ]
     },
     "execution_count": 23,
     "metadata": {},
     "output_type": "execute_result"
    }
   ],
   "source": [
    "np.mean(weight1)"
   ]
  },
  {
   "cell_type": "code",
   "execution_count": 24,
   "metadata": {},
   "outputs": [
    {
     "data": {
      "text/plain": [
       "62.0"
      ]
     },
     "execution_count": 24,
     "metadata": {},
     "output_type": "execute_result"
    }
   ],
   "source": [
    "np.median(weight1)"
   ]
  },
  {
   "cell_type": "code",
   "execution_count": 25,
   "metadata": {},
   "outputs": [
    {
     "data": {
      "text/plain": [
       "ModeResult(mode=54, count=2)"
      ]
     },
     "execution_count": 25,
     "metadata": {},
     "output_type": "execute_result"
    }
   ],
   "source": [
    "stats.mode(weight1)"
   ]
  },
  {
   "cell_type": "code",
   "execution_count": 28,
   "metadata": {},
   "outputs": [],
   "source": [
    "weight2 = [34,54,50,62,68,67,78,55,62,75,54,150,200]"
   ]
  },
  {
   "cell_type": "code",
   "execution_count": 29,
   "metadata": {},
   "outputs": [
    {
     "data": {
      "text/plain": [
       "77.61538461538461"
      ]
     },
     "execution_count": 29,
     "metadata": {},
     "output_type": "execute_result"
    }
   ],
   "source": [
    "np.mean(weight2) # Significantly affected"
   ]
  },
  {
   "cell_type": "code",
   "execution_count": 30,
   "metadata": {},
   "outputs": [
    {
     "data": {
      "text/plain": [
       "62.0"
      ]
     },
     "execution_count": 30,
     "metadata": {},
     "output_type": "execute_result"
    }
   ],
   "source": [
    "np.median(weight2) # Affected a little bit"
   ]
  },
  {
   "cell_type": "code",
   "execution_count": 31,
   "metadata": {},
   "outputs": [
    {
     "data": {
      "text/plain": [
       "ModeResult(mode=54, count=2)"
      ]
     },
     "execution_count": 31,
     "metadata": {},
     "output_type": "execute_result"
    }
   ],
   "source": [
    "stats.mode(weight2) # Not affected"
   ]
  }
 ],
 "metadata": {
  "kernelspec": {
   "display_name": "base",
   "language": "python",
   "name": "python3"
  },
  "language_info": {
   "codemirror_mode": {
    "name": "ipython",
    "version": 3
   },
   "file_extension": ".py",
   "mimetype": "text/x-python",
   "name": "python",
   "nbconvert_exporter": "python",
   "pygments_lexer": "ipython3",
   "version": "3.11.5"
  },
  "orig_nbformat": 4
 },
 "nbformat": 4,
 "nbformat_minor": 2
}
