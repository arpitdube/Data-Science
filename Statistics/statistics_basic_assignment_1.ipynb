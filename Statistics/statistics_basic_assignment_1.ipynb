{
 "cells": [
  {
   "cell_type": "markdown",
   "metadata": {},
   "source": [
    "**Q1. What is Statistics?**"
   ]
  },
  {
   "cell_type": "markdown",
   "metadata": {},
   "source": [
    "Statictics is a field that deals with collecting, analyzing, interpreting, presenting, and organizing data. Its primary purpose is to gain insights and draw meaningful conclusions from data."
   ]
  },
  {
   "cell_type": "markdown",
   "metadata": {},
   "source": [
    "**Q2. Define the different types of statistics and give an example of when each type might be used.**"
   ]
  },
  {
   "cell_type": "markdown",
   "metadata": {},
   "source": [
    "Different types of statistics are:-\n",
    "1. Descriptive Statistics : Descriptive statistics involve methods to summarize and describe data. Common descriptive statistics include measures of central tendency (e.g., mean, median, mode), measures of variability (e.g., range, variance, standard deviation), and graphical representations (e.g., histograms, box plots) that provide some information on characteristics of data.\n",
    "\n",
    "2. Inferential Statistics : Inferential statistics is concerned with making inferences or predictions about a larger population based on a sample of data. This involves hypothesis testing, confidence intervals, and various statistical tests (e.g., t-tests, chi-squared tests) to determine the significance of relationships or differences in data."
   ]
  },
  {
   "cell_type": "markdown",
   "metadata": {},
   "source": [
    "**Q3. What are the different types of data and how do they differ from each other? Provide an example of\n",
    "each type of data.**"
   ]
  },
  {
   "cell_type": "markdown",
   "metadata": {},
   "source": [
    "Different types of data are:-\n",
    "1. Quantitative Data :-  \n",
    "(a) Discrete Data : Whole numbers  \n",
    "(b) Continuous Data : Can have infinite values (has a range)\n",
    "\n",
    "2. Qualitative Data :-  \n",
    "(a) Nominal : Categorical data, Order/Ranking doesn't matter  \n",
    "(b) Ordinal : Order/Ranking is important, Difference cannot be measured  \n",
    "(c) Interval : Order matters, Difference can be measured, Ratio cannot be measured,  No '0' starting point  \n",
    "(d) Ratio : Order matters, Differences can be measured, Ratio can measured, Has a '0' starting point"
   ]
  },
  {
   "cell_type": "markdown",
   "metadata": {},
   "source": [
    "**Q4. Categorise the following datasets with respect to quantitative and qualitative data types:**\n",
    "\n",
    "**(i) Grading in exam: A+, A, B+, B, C+, C, D, E**\n",
    "\n",
    "**(ii) Colour of mangoes: yellow, green, orange, red**\n",
    "\n",
    "**(iii) Height data of a class: [178.9, 179, 179.5, 176, 177.2, 178.3, 175.8,...]**\n",
    "\n",
    "**(iv) Number of mangoes exported by a farm: [500, 600, 478, 672, ...]**"
   ]
  },
  {
   "cell_type": "markdown",
   "metadata": {},
   "source": [
    "(i) Ordinal Data (Qualitative)  \n",
    "(ii) Nominal Data (Qualitative)  \n",
    "(iii) Continuous (Quantitative)  \n",
    "(iv) Discrete (Quantitative)"
   ]
  },
  {
   "cell_type": "markdown",
   "metadata": {},
   "source": [
    "**Q5. Explain the concept of levels of measurement and give an example of a variable for each level.**"
   ]
  },
  {
   "cell_type": "markdown",
   "metadata": {},
   "source": [
    "Levels of measurement is a concept that classifies the given data into different categories. We have mainly four types of levels of measurement :-  \n",
    "1. Nominal Scale Data : This type of data refers to categorical type of data. For example, gender, color, month, etc.  \n",
    "2. Ordinal Scale Data : This type of data refers to data where rank of data matters, but difference cannot be measured. For example, rank of students appearing in an exam.  \n",
    "3. Interval Scale Data : This type of data refers to data where ordering of data matters. Difference between the data can be measured but ratio is not helpful measurable quantity. This type of data doesn't has a starting '0' point, i.e. the data doesn't has a lower limit. For example, temperatures on different days.  \n",
    "4. Ratio Scale Data : This type of data refers to data where ordering of data matters. Differences and ratios are useful measurable quantities for comparison. This type of data has a starting '0' point, i.e. the data has a lower limit. For example, marks of students in an exam."
   ]
  },
  {
   "cell_type": "markdown",
   "metadata": {},
   "source": [
    "**Q6. Why is it important to understand the level of measurement when analyzing data? Provide an\n",
    "example to illustrate your answer.**"
   ]
  },
  {
   "cell_type": "markdown",
   "metadata": {},
   "source": [
    "It is important to understand the level of measurement of data when analyzing the data so that while doing feature engineering, we are able to maintain our dataset properly and select the machine learning models appropriately that will provide high accuracy of our trained model. For example, consider a dataset consisting of the following features :-  \n",
    "1.Student ID (Nominal)  \n",
    "2. Gender (Nominal)  \n",
    "3. Year of Study (Ordinal)  \n",
    "4. Age (Ratio)  \n",
    "5. CGPA (Interval)"
   ]
  },
  {
   "cell_type": "markdown",
   "metadata": {},
   "source": [
    "**Q7. How nominal data type is different from ordinal data type.**"
   ]
  },
  {
   "cell_type": "markdown",
   "metadata": {},
   "source": [
    "Nomial data type consists of categorical data. The difference or ratio is not measurable between the data.  \n",
    "Ordinal data type consists data in which ordering of data matters. Difference cannot be measured between the data."
   ]
  },
  {
   "cell_type": "markdown",
   "metadata": {},
   "source": [
    "**Q8. Which type of plot can be used to display data in terms of range?**"
   ]
  },
  {
   "cell_type": "markdown",
   "metadata": {},
   "source": [
    "Box plot is used to display data in  terms of range."
   ]
  },
  {
   "cell_type": "markdown",
   "metadata": {},
   "source": [
    "**Q9. Describe the difference between descriptive and inferential statistics. Give an example of each\n",
    "type of statistics and explain how they are used.**"
   ]
  },
  {
   "cell_type": "markdown",
   "metadata": {},
   "source": [
    "Descriptive Statistics : Descriptive statistics involve methods to summarize and describe data. Common descriptive statistics include measures of central tendency (e.g., mean, median, mode), measures of variability (e.g., range, variance, standard deviation), and graphical representations (e.g., histograms, box plots) that provide some information on characteristics of data.\n",
    "\n",
    "Inferential Statistics : Inferential statistics is concerned with making inferences or predictions about a larger population based on a sample of data. This involves hypothesis testing, confidence intervals, and various statistical tests (e.g., t-tests, chi-squared tests) to determine the significance of relationships or differences in data."
   ]
  },
  {
   "cell_type": "markdown",
   "metadata": {},
   "source": [
    "**Q10. What are some common measures of central tendency and variability used in statistics? Explain\n",
    "how each measure can be used to describe a dataset.**"
   ]
  },
  {
   "cell_type": "markdown",
   "metadata": {},
   "source": [
    "Common measures of central tendency used in statistics are:-  \n",
    "1. Mean (Average) : It is the average value of data.  \n",
    "2. Median : It is central value of the data. The data is arranged in ascending or descending order and median is calculated based on the number of data points that we have.  \n",
    "3. Mode : It is the data with maximum frequncy in the dataset.\n",
    "\n",
    "Common measures of variability used in statistics are:-  \n",
    "1. Variance : It gives the spread/dispersion of the distribution of our data.\n",
    "2. Standard Deviation : It provides the deviation (positive or negative) from a value in the dataset."
   ]
  }
 ],
 "metadata": {
  "kernelspec": {
   "display_name": "base",
   "language": "python",
   "name": "python3"
  },
  "language_info": {
   "name": "python",
   "version": "3.11.5"
  },
  "orig_nbformat": 4
 },
 "nbformat": 4,
 "nbformat_minor": 2
}
