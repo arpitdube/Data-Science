{
 "cells": [
  {
   "cell_type": "markdown",
   "metadata": {},
   "source": [
    "Q1. Explain Class and Object with respect to Object-Oriented Programming. Give a suitable example."
   ]
  },
  {
   "cell_type": "code",
   "execution_count": 1,
   "metadata": {},
   "outputs": [],
   "source": [
    "# Class : Class is defined as blueprint of an object in Object Oriented Programming\n",
    "# Object : Object is defined as instance of a class which holds its properties\n",
    "\n",
    "class student:\n",
    "     \n",
    "     def __init__(self,student_name,student_age,student_rollno):\n",
    "          self.student_name = student_name\n",
    "          self.student_age = student_age\n",
    "          self.student_rollno = student_rollno"
   ]
  },
  {
   "cell_type": "code",
   "execution_count": 4,
   "metadata": {},
   "outputs": [
    {
     "name": "stdout",
     "output_type": "stream",
     "text": [
      "Arpit Dubey\n",
      "18\n",
      "15\n"
     ]
    }
   ],
   "source": [
    "stu1 = student(\"Arpit Dubey\",18,15) # Instance/Object of class 'student'\n",
    "print(stu1.student_name)\n",
    "print(stu1.student_age)\n",
    "print(stu1.student_rollno)"
   ]
  },
  {
   "cell_type": "markdown",
   "metadata": {},
   "source": [
    "Q2. Name the four pillars of OOPs."
   ]
  },
  {
   "cell_type": "raw",
   "metadata": {},
   "source": [
    "\"\"\" Four pillars of OOPS are:-\n",
    "    1) Encapsulation\n",
    "    2) Inheritance\n",
    "    3) Abstraction\n",
    "    4) Polymorphism\n",
    "\"\"\""
   ]
  },
  {
   "cell_type": "markdown",
   "metadata": {},
   "source": [
    "Q3. Explain why the __init__() function is used. Give a suitable example."
   ]
  },
  {
   "cell_type": "code",
   "execution_count": 2,
   "metadata": {},
   "outputs": [],
   "source": [
    "# __init__() function is used as constructor for passing argument\n",
    "\n",
    "class car:\n",
    "    \n",
    "    def __init__(self,car_name,car_price):\n",
    "        self.car_name = car_name\n",
    "        self.car_price = car_price"
   ]
  },
  {
   "cell_type": "code",
   "execution_count": 4,
   "metadata": {},
   "outputs": [
    {
     "name": "stdout",
     "output_type": "stream",
     "text": [
      "Toyota\n",
      "1000000\n"
     ]
    }
   ],
   "source": [
    "car_obj = car(\"Toyota\",1000000)\n",
    "print(car_obj.car_name)\n",
    "print(car_obj.car_price)"
   ]
  },
  {
   "cell_type": "markdown",
   "metadata": {},
   "source": [
    "Q4. Why self is used in OOPs?"
   ]
  },
  {
   "cell_type": "raw",
   "metadata": {},
   "source": [
    "'self' is used to bind the function with the class and we can use that function when an object is created."
   ]
  },
  {
   "cell_type": "markdown",
   "metadata": {},
   "source": [
    "Q5. What is inheritance? Give an example for each type of inheritance."
   ]
  },
  {
   "cell_type": "code",
   "execution_count": 15,
   "metadata": {},
   "outputs": [],
   "source": [
    "# Inheritance is a concept using which one class can inherit the properties of another class.\n",
    "\n",
    "# 1) Single Inheritance\n",
    "\n",
    "class Parent:\n",
    "    \n",
    "    def method1(self):\n",
    "        return \"This is method1 of Parent class\"\n",
    "    \n",
    "    def method2(self):\n",
    "        return \"This is method2 of Parent class\"\n",
    "    \n",
    "class Child(Parent):\n",
    "    \n",
    "    def method3(self):\n",
    "        return \"This is method3 of Child class\""
   ]
  },
  {
   "cell_type": "code",
   "execution_count": 16,
   "metadata": {},
   "outputs": [
    {
     "name": "stdout",
     "output_type": "stream",
     "text": [
      "This is method1 of Parent class\n",
      "This is method2 of Parent class\n"
     ]
    }
   ],
   "source": [
    "parent_obj1 = Parent()\n",
    "print(parent_obj1.method1())\n",
    "print(parent_obj1.method2())"
   ]
  },
  {
   "cell_type": "code",
   "execution_count": 17,
   "metadata": {},
   "outputs": [
    {
     "name": "stdout",
     "output_type": "stream",
     "text": [
      "This is method3 of Child class\n",
      "This is method2 of Parent class\n",
      "This is method1 of Parent class\n"
     ]
    }
   ],
   "source": [
    "child_obj1 = Child()\n",
    "print(child_obj1.method3())\n",
    "print(child_obj1.method2())\n",
    "print(child_obj1.method1())"
   ]
  },
  {
   "cell_type": "code",
   "execution_count": 21,
   "metadata": {},
   "outputs": [],
   "source": [
    "# 2) Multiple Inheritance\n",
    "class Parent1:\n",
    "    \n",
    "    def methodA1(self):\n",
    "        return \"This is methodA1 of Parent1 class\"\n",
    "    \n",
    "class Parent2:\n",
    "    \n",
    "    def methodA2(self):\n",
    "        return \"This is methodA2 of Parent2 class\"\n",
    "    \n",
    "class Child2(Parent1,Parent2):\n",
    "    \n",
    "    def method2(self):\n",
    "        return \"This is method2 of Child class\""
   ]
  },
  {
   "cell_type": "code",
   "execution_count": 23,
   "metadata": {},
   "outputs": [
    {
     "name": "stdout",
     "output_type": "stream",
     "text": [
      "This is method2 of Child class\n",
      "This is methodA1 of Parent1 class\n",
      "This is methodA2 of Parent2 class\n"
     ]
    }
   ],
   "source": [
    "child_obj2 = Child2()\n",
    "print(child_obj2.method2())\n",
    "print(child_obj2.methodA1())\n",
    "print(child_obj2.methodA2())"
   ]
  },
  {
   "cell_type": "code",
   "execution_count": 24,
   "metadata": {},
   "outputs": [],
   "source": [
    "# 3) Multilevel Inheritance\n",
    "\n",
    "class A:\n",
    "    \n",
    "    def method1(self):\n",
    "        return \"This is method1 of class A\"\n",
    "    \n",
    "class B(A):\n",
    "    \n",
    "    def method2(self):\n",
    "        return \"This is method2 of class B\"\n",
    "    \n",
    "class C(B):\n",
    "    \n",
    "    def method3(self):\n",
    "        return \"This is method3 of class C\""
   ]
  },
  {
   "cell_type": "code",
   "execution_count": 25,
   "metadata": {},
   "outputs": [
    {
     "name": "stdout",
     "output_type": "stream",
     "text": [
      "This is method1 of class A\n",
      "This is method2 of class B\n",
      "This is method3 of class C\n"
     ]
    }
   ],
   "source": [
    "child_obj3 = C()\n",
    "print(child_obj3.method1())\n",
    "print(child_obj3.method2())\n",
    "print(child_obj3.method3())"
   ]
  },
  {
   "cell_type": "code",
   "execution_count": 26,
   "metadata": {},
   "outputs": [],
   "source": [
    "# 4) Hierarchial Inheritance\n",
    "\n",
    "class P:\n",
    "    \n",
    "    def method1(self):\n",
    "        return \"This is method1 of class P\"\n",
    "    \n",
    "class Child1(P):\n",
    "    \n",
    "    def method2(self):\n",
    "        return \"This is method2 of class Child1\"\n",
    "    \n",
    "class Child2(P):\n",
    "    \n",
    "    def method3(self):\n",
    "        return \"This is method3 of class Child2\""
   ]
  },
  {
   "cell_type": "code",
   "execution_count": 27,
   "metadata": {},
   "outputs": [
    {
     "name": "stdout",
     "output_type": "stream",
     "text": [
      "This is method1 of class P\n",
      "This is method2 of class Child1\n",
      "This is method1 of class P\n",
      "This is method3 of class Child2\n"
     ]
    }
   ],
   "source": [
    "child_obj4 = Child1()\n",
    "print(child_obj4.method1())\n",
    "print(child_obj4.method2())\n",
    "\n",
    "child_obj5 = Child2()\n",
    "print(child_obj5.method1())\n",
    "print(child_obj5.method3())"
   ]
  },
  {
   "cell_type": "code",
   "execution_count": null,
   "metadata": {},
   "outputs": [],
   "source": []
  }
 ],
 "metadata": {
  "kernelspec": {
   "display_name": "Python 3",
   "language": "python",
   "name": "python3"
  },
  "language_info": {
   "codemirror_mode": {
    "name": "ipython",
    "version": 3
   },
   "file_extension": ".py",
   "mimetype": "text/x-python",
   "name": "python",
   "nbconvert_exporter": "python",
   "pygments_lexer": "ipython3",
   "version": "3.11.4"
  },
  "orig_nbformat": 4
 },
 "nbformat": 4,
 "nbformat_minor": 2
}
