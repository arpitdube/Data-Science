{
 "cells": [
  {
   "cell_type": "markdown",
   "metadata": {},
   "source": [
    "Q1. What is an Exception in python? Write the difference between Exceptions and Syntax errors."
   ]
  },
  {
   "cell_type": "raw",
   "metadata": {},
   "source": [
    "Errors occur during runtime and they can't be handled most of the time. It occurs due to lack of system resources.\n",
    "Exceptions interrupts the normal flow of a program, but they can be handled unlike errors. They occur during runtime or compile time."
   ]
  },
  {
   "cell_type": "markdown",
   "metadata": {},
   "source": [
    "Q2. What happens when an exception is not handled? Explain with an example."
   ]
  },
  {
   "cell_type": "raw",
   "metadata": {},
   "source": [
    "When an exception is not handled, it interrupts the normal flow of our program causing abrupt termination of our program."
   ]
  },
  {
   "cell_type": "code",
   "execution_count": 2,
   "metadata": {},
   "outputs": [
    {
     "ename": "ZeroDivisionError",
     "evalue": "division by zero",
     "output_type": "error",
     "traceback": [
      "\u001b[1;31m---------------------------------------------------------------------------\u001b[0m",
      "\u001b[1;31mZeroDivisionError\u001b[0m                         Traceback (most recent call last)",
      "Cell \u001b[1;32mIn[2], line 6\u001b[0m\n\u001b[0;32m      4\u001b[0m dividend \u001b[39m=\u001b[39m \u001b[39mint\u001b[39m(\u001b[39minput\u001b[39m(\u001b[39m\"\u001b[39m\u001b[39mEnter dividend :\u001b[39m\u001b[39m\"\u001b[39m)) \u001b[39m# Giving 10 here\u001b[39;00m\n\u001b[0;32m      5\u001b[0m divisor \u001b[39m=\u001b[39m \u001b[39mint\u001b[39m(\u001b[39minput\u001b[39m(\u001b[39m\"\u001b[39m\u001b[39mEnter divisor :\u001b[39m\u001b[39m\"\u001b[39m)) \u001b[39m# Giving 0 here\u001b[39;00m\n\u001b[1;32m----> 6\u001b[0m \u001b[39mprint\u001b[39m(\u001b[39m\"\u001b[39m\u001b[39mResult = \u001b[39m\u001b[39m\"\u001b[39m,dividend\u001b[39m/\u001b[39;49mdivisor)\n",
      "\u001b[1;31mZeroDivisionError\u001b[0m: division by zero"
     ]
    }
   ],
   "source": [
    "# Example\n",
    "\n",
    "# Case-1 : Not handling the exception\n",
    "dividend = int(input(\"Enter dividend :\")) # Giving 10 here\n",
    "divisor = int(input(\"Enter divisor :\")) # Giving 0 here\n",
    "print(\"Result = \",dividend/divisor)"
   ]
  },
  {
   "cell_type": "code",
   "execution_count": 1,
   "metadata": {},
   "outputs": [
    {
     "name": "stdout",
     "output_type": "stream",
     "text": [
      "Divisor provided as 0!\n"
     ]
    }
   ],
   "source": [
    "# Case-2 : Handling the exception\n",
    "import logging\n",
    "logging.basicConfig(filename = \"exceptions.log\", level = logging.ERROR)\n",
    "\n",
    "try:\n",
    "    dividend = int(input(\"Enter dividend :\")) # Giving 10 here\n",
    "    divisor = int(input(\"Enter divisor :\")) # Giving 0 here\n",
    "    print(\"Result = \",dividend/divisor)\n",
    "except ZeroDivisionError as e:\n",
    "    logging.error(e)\n",
    "    print(\"Divisor provided as 0!\")"
   ]
  },
  {
   "cell_type": "markdown",
   "metadata": {},
   "source": [
    "Q3. Which Python statements are used to catch and handle exceptions? Explain with an example."
   ]
  },
  {
   "cell_type": "raw",
   "metadata": {},
   "source": [
    "Four statements in Python are used to handle exceptions :-\n",
    "1. try -> Main code is written in this\n",
    "2. except -> Handles the exceptions that arise during excution of program\n",
    "3. else -> Runs when try block is excuted successfully\n",
    "4. finally -> Runs in all situations"
   ]
  },
  {
   "cell_type": "code",
   "execution_count": 6,
   "metadata": {},
   "outputs": [
    {
     "name": "stdout",
     "output_type": "stream",
     "text": [
      "No such file exists\n"
     ]
    }
   ],
   "source": [
    "# Example\n",
    "import logging\n",
    "\n",
    "logging.basicConfig(filename = \"Exception Handling/exceptions.log\", level = logging.DEBUG, format = '%(asctime)s - %(levelname)s - %(message)s')\n",
    "\n",
    "try:\n",
    "    with open(\"qwerty.txt\",\"r\") as f:\n",
    "        f.read()\n",
    "except FileNotFoundError as e:\n",
    "    logging.info(\"Exception raised in try block. Now inside except block.\")\n",
    "    logging.error(e)\n",
    "    print(\"No such file exists\")\n",
    "else:\n",
    "    logging.info(\"Try block excuted successfully\")\n",
    "    print(\"This is else block\")\n",
    "finally:\n",
    "    logging.shutdown()"
   ]
  },
  {
   "cell_type": "markdown",
   "metadata": {},
   "source": [
    "Q4. Explain with an example:\n",
    "    1. try and else\n",
    "    2. finally\n",
    "    3. raise"
   ]
  },
  {
   "cell_type": "code",
   "execution_count": 2,
   "metadata": {},
   "outputs": [
    {
     "name": "stdout",
     "output_type": "stream",
     "text": [
      "Hello Python\n"
     ]
    }
   ],
   "source": [
    "# try and else\n",
    "import logging\n",
    "\n",
    "logging.basicConfig(filename = \"exceptions.log\", level = logging.INFO)\n",
    "\n",
    "try:\n",
    "    logging.info(\"Inside try block\")\n",
    "    a = 10\n",
    "    a + 12\n",
    "except Exception as e:\n",
    "    logging.error(\"Some exception encountered\")\n",
    "    print(e)\n",
    "\n",
    "# Executed only when try block is executed successfully\n",
    "else:\n",
    "    logging.info(\"Inside else block\")\n",
    "    print(\"Hello Python\")"
   ]
  },
  {
   "cell_type": "code",
   "execution_count": 4,
   "metadata": {},
   "outputs": [
    {
     "name": "stdout",
     "output_type": "stream",
     "text": [
      "Please enter an integer as input\n",
      "You are now inside finally block\n"
     ]
    }
   ],
   "source": [
    "# finally\n",
    "\n",
    "try:\n",
    "    logging.info(\"Inside try block\")\n",
    "    a = int(input(\"Enter your age:\")) # Giving string \"pwskills\" as input\n",
    "    print(a)\n",
    "except ValueError as e:\n",
    "    logging.error(\"Some error occurred\")\n",
    "    print(\"Please enter an integer as input\")\n",
    "    \n",
    "# Executes in all situations, whether exception arises or not\n",
    "finally:\n",
    "    logging.info(\"Inside finally block\")\n",
    "    print(\"You are now inside finally block\")"
   ]
  },
  {
   "cell_type": "code",
   "execution_count": 5,
   "metadata": {},
   "outputs": [],
   "source": [
    "# raise (Used with custom exception handling)\n",
    "\n",
    "class my_exception_handler(Exception):\n",
    "    \n",
    "    def __init__(self,msg):\n",
    "        self.msg = msg"
   ]
  },
  {
   "cell_type": "code",
   "execution_count": 6,
   "metadata": {},
   "outputs": [],
   "source": [
    "def validateAge(age):\n",
    "    if age < 0:\n",
    "        logging.error(\"Negative value given as input\")\n",
    "        raise my_exception_handler(\"Age cannot be negative!\")\n",
    "    elif age > 150:\n",
    "        logging.warning(\"The value doesn't seems practically correct !\")\n",
    "        raise my_exception_handler(\"Wow! That doesn't seems possible for humans. Your age is too high!\")\n",
    "    else:\n",
    "        logging.info(\"Valid input given by user\")\n",
    "        print(\"Valid age\")"
   ]
  },
  {
   "cell_type": "code",
   "execution_count": 8,
   "metadata": {},
   "outputs": [
    {
     "name": "stdout",
     "output_type": "stream",
     "text": [
      "Age cannot be negative!\n",
      "Age given by the user -> -34\n"
     ]
    }
   ],
   "source": [
    "try:\n",
    "    age = int(input(\"Enter your age :\"))\n",
    "    validateAge(age)\n",
    "    \n",
    "except ValueError as e:\n",
    "    logging.error(\"Another type of data entered by the user\")\n",
    "    print(\"You have given invalid type of data! It should be an integer.\")\n",
    "    \n",
    "except my_exception_handler as e:\n",
    "    print(e)\n",
    "\n",
    "finally:\n",
    "    print(\"Age given by the user -> {}\".format(age))"
   ]
  },
  {
   "cell_type": "markdown",
   "metadata": {},
   "source": [
    "Q5. What are Custom Exceptions in python? Why do we need Custom Exceptions? Explain with an example."
   ]
  },
  {
   "cell_type": "raw",
   "metadata": {},
   "source": [
    "Custom Exceptions in Python are exceptions made by the programmers other than the once which are built-in to handle the exceptions. They are built using inbuilt Exceptions only.\n",
    "We require custom exceptions so that we can manage/handle an exception according to our convenience and we won't be bound by limitations of any type of exception handler."
   ]
  },
  {
   "cell_type": "code",
   "execution_count": 13,
   "metadata": {},
   "outputs": [],
   "source": [
    "# Example\n",
    "\n",
    "# Custom exception handling class\n",
    "\n",
    "class custom_excep_handler(Exception):\n",
    "    \n",
    "    def __init__(self,msg):\n",
    "        self.msg = msg"
   ]
  },
  {
   "cell_type": "code",
   "execution_count": 14,
   "metadata": {},
   "outputs": [],
   "source": [
    "def validateDicenumber(num):\n",
    "    if num < 1:\n",
    "        logging.error(\"Number is less than 1!\")\n",
    "        raise custom_excep_handler(\"Number cannot be less than 1 on a die.\")\n",
    "    elif num > 6:\n",
    "        logging.error(\"Number greater than 6!\")\n",
    "        raise custom_excep_handler(\"Number cannot be greater than 6 on a die.\")\n",
    "    else:\n",
    "        print(\"Number is valid\")"
   ]
  },
  {
   "cell_type": "code",
   "execution_count": 16,
   "metadata": {},
   "outputs": [
    {
     "name": "stdout",
     "output_type": "stream",
     "text": [
      "Number cannot be greater than 6 on a die.\n",
      "Number given by the user = 19\n"
     ]
    }
   ],
   "source": [
    "try:\n",
    "    n = int(input(\"Enter the number on a dice:\"))\n",
    "    validateDicenumber(n)\n",
    "\n",
    "except ValueError as e:\n",
    "    logging.error(\"Another type of data entered by the user\")\n",
    "    print(\"You have given invalid type of data! It should be an integer.\")\n",
    "    \n",
    "except custom_excep_handler as e:\n",
    "    print(e)\n",
    "\n",
    "finally:\n",
    "    print(\"Number given by the user = {}\".format(n))"
   ]
  },
  {
   "cell_type": "markdown",
   "metadata": {},
   "source": [
    "Q6. Create custom exception class. Use this class to handle an exception."
   ]
  },
  {
   "cell_type": "code",
   "execution_count": 17,
   "metadata": {},
   "outputs": [],
   "source": [
    "class handle_excep(Exception):\n",
    "    \n",
    "    def __init__(self,msg):\n",
    "        self.msg = msg"
   ]
  },
  {
   "cell_type": "code",
   "execution_count": 18,
   "metadata": {},
   "outputs": [],
   "source": [
    "def validProbability(prob):\n",
    "    if prob < 0:\n",
    "        logging.error(\"Negative probability\")\n",
    "        print(\"Probability of an event cann't be negative\")\n",
    "    \n",
    "    elif prob > 1:\n",
    "        logging.error(\"Probability greater than 1\")\n",
    "        print(\"Probability of an event cann't be greater than 1\")\n",
    "        \n",
    "    else:\n",
    "        logging.info(\"Valid probability\")\n",
    "        print(\"Probability is valid\")"
   ]
  },
  {
   "cell_type": "code",
   "execution_count": 19,
   "metadata": {},
   "outputs": [
    {
     "name": "stdout",
     "output_type": "stream",
     "text": [
      "Probability of an event cann't be greater than 1\n",
      "Probability given by the user = 12.0\n"
     ]
    }
   ],
   "source": [
    "try:\n",
    "    p = float(input(\"Enter the probaility of any event :\"))\n",
    "    validProbability(p)\n",
    "    \n",
    "except ValueError as e:\n",
    "    logging.error(\"Another type of data entered by the user\")\n",
    "    print(\"You have given invalid type of data! It should be an integer.\")\n",
    "    \n",
    "except handle_excep as e:\n",
    "    print(e)\n",
    "    \n",
    "finally:\n",
    "    print(\"Probability given by the user = {}\".format(p))"
   ]
  },
  {
   "cell_type": "code",
   "execution_count": 20,
   "metadata": {},
   "outputs": [],
   "source": [
    "logging.info(\" --- End of assingment 1 of exception handling\")"
   ]
  },
  {
   "cell_type": "code",
   "execution_count": 21,
   "metadata": {},
   "outputs": [],
   "source": [
    "logging.shutdown()"
   ]
  }
 ],
 "metadata": {
  "kernelspec": {
   "display_name": "Python 3",
   "language": "python",
   "name": "python3"
  },
  "language_info": {
   "codemirror_mode": {
    "name": "ipython",
    "version": 3
   },
   "file_extension": ".py",
   "mimetype": "text/x-python",
   "name": "python",
   "nbconvert_exporter": "python",
   "pygments_lexer": "ipython3",
   "version": "3.11.4"
  },
  "orig_nbformat": 4
 },
 "nbformat": 4,
 "nbformat_minor": 2
}
