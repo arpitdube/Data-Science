{
 "cells": [
  {
   "cell_type": "markdown",
   "metadata": {},
   "source": [
    "**Q1. Explain the following with an example:**\n",
    "**1. Artificial Intelligence**\n",
    "**2. Machine Learning**\n",
    "**3. Deep Learning**"
   ]
  },
  {
   "cell_type": "markdown",
   "metadata": {},
   "source": [
    "1. Artificial Intelligence : It is a field of computer science taht focuses on creating systems or machines that can perform tasks that typically require human intelligence. It aims to develop algorithms and models that enable machines to simulate human functions. For example: Self Driving Cars, Amazon's Alexa, Google Assistant, etc.\n",
    "\n",
    "2. Machine Learning : It is a subset of Artificial Intelligence that focuses on creating models that enable computers to learn and make predications or decisions from data without being explicitly programmed. These systems use statistical techniques to identify patterns and make predictions based on input data. It involves training a model on a dataset to generalize from the data and make accurate predictions on new, unseen data. For example : Email Spam Detection, Recommendation Systems, etc.\n",
    "\n",
    "3. Deep Learning : It is a subfield of machine learning that focuses on using multi-layered neural networks to solve complex problems. It automatically learns hierarchial representaions of data. For example : Image and Speech Recognition, Natural Language Processing, etc."
   ]
  },
  {
   "cell_type": "markdown",
   "metadata": {},
   "source": [
    "**Q2. What is supervised learning? List some examples of supervised learning.**"
   ]
  },
  {
   "cell_type": "markdown",
   "metadata": {},
   "source": [
    "In supervised machine learning, we have a dataset with input and output features. We train the dataset based on the provided input and on the basis of that trained dataset, we provide the output for the new dataset. It involves two things, Classification and Regression. In classification, we have output feature in the form of categorical data. In regression, we have output feature as continuous output. For example: Handwriting Recognition, Sentiment Analysis, Weather Forecasting, etc."
   ]
  },
  {
   "cell_type": "markdown",
   "metadata": {},
   "source": [
    "**Q3. What is unsupervised learning? List some examples of unsupervised learning.**"
   ]
  },
  {
   "cell_type": "markdown",
   "metadata": {},
   "source": [
    "Unsupervised learning is a type of machine learning where the algorith is trained on a dataset where the input data does not have corresponding target labels or categories. The aim of the algorithm is to find patterns, structures or relationships in the data without explicit guidance. For example : Clustering, Generative Modelling, etc."
   ]
  },
  {
   "cell_type": "markdown",
   "metadata": {},
   "source": [
    "**Q4. What is the difference between AI, ML, DL, and DS?**"
   ]
  },
  {
   "cell_type": "markdown",
   "metadata": {},
   "source": [
    "1. AI (Ariticial Intelligence) :  AI refers to the field of creating machines or systems that can perform tasks that typically require human intelligence, such as problem-solving, reasoning, learning, perception, understanding natural language, and decision-making.\n",
    "\n",
    "2. ML (Machine Learning) : ML is a subset of AI that focuses on developing algorithms and models that allow computers to learn and make predictions or decisions from data without being explicitly programmed.\n",
    "\n",
    "3. DL (Deep Learning) : DL is a subfield of ML that uses artificial neural networks with multiple layers (deep neural networks) to model and solve complex problems. It is inspired by the structure and function of the human brain.\n",
    "\n",
    "4. DS (Data Science) : DS is an field that combines techniques from statistics, computer science, and domain expertise to extract insights, knowledge, and value from data."
   ]
  },
  {
   "cell_type": "markdown",
   "metadata": {},
   "source": [
    "**Q5. What are the main differences between supervised, unsupervised, and semi-supervised learning?**"
   ]
  },
  {
   "cell_type": "markdown",
   "metadata": {},
   "source": [
    "1. Supervised Learning : Supervised learning uses labeled data for training. Labeled data means that each input data point is associated with a corresponding target or output label.\n",
    "\n",
    "2. Unsupervised Learnning : Unsupervised learning uses unlabeled data for training. There are no target labels associated with the input data.\n",
    "\n",
    "3. Semi- Supervised Learning : Semi-supervised learning uses a combination of labeled and unlabeled data for training. It is a combination of supervised and unsupervised learning."
   ]
  },
  {
   "cell_type": "markdown",
   "metadata": {},
   "source": [
    "**Q6. What is train, test and validation split? Explain the importance of each term.**"
   ]
  },
  {
   "cell_type": "markdown",
   "metadata": {},
   "source": [
    "A given dataset is split into three categories:-\n",
    "1. Train Dataset : Using this dataset, we train our models. It is used to teach the model the patterns and relationships in the data. The training set is crucial because it allows the model to learn from the data and capture patterns. Without an adequate training set, the model cannot generalize to new unseen data.\n",
    "\n",
    "2. Validation Dataset : Using this dataset, we do hypertuning of our trained model to improve its accuracy. It helps prevent overfitting, which occurs when a model performs well on the training data but poorly on unseen data. By adjusting hyperparameters and selecting the best-performing model based on validation set performance, you can improve the model's ability to generalize to new data.\n",
    "\n",
    "3. Test Dataset : This dataset is used for testing the accuracy of our validated model.  It is used to evaluate the model's performance after it has been trained on the training dataset. It is a separate, unseen dataset that the model has not encountered during training. By evaluating the model on the testing set, we can estimate how it will perform in real-world scenarios."
   ]
  },
  {
   "cell_type": "markdown",
   "metadata": {},
   "source": [
    "**Q7. How can unsupervised learning be used in anomaly detection?**"
   ]
  },
  {
   "cell_type": "markdown",
   "metadata": {},
   "source": [
    "It begins by representing the data in a suitable feature space. This may involve extracting relevant features or transforming the data to a format that is amenable to unsupervised learning techniques.\n",
    "\n",
    "After that, we choose an unsupervised learning algorithms. Then the model is trained on the entire dataset, excluding known anomaly(if any). The model learns the patterns and structures present in the normal data. Once the model is trained, you can use it to score new, unseen data points. Anomalies are typically identified as data points with scores or distances that deviate significantly from the norm.\n",
    "\n",
    "Evaluate the performance of the anomaly detection model. We may need labeled data to assess the model's performance.  We can retrain the model periodically to adapt to changes in the data distribution and improve its performance. Visualize the results to gain insights into why certain data points are flagged as anomalies. This can help in understanding the nature of anomalies and potentially guide further investigation."
   ]
  },
  {
   "cell_type": "markdown",
   "metadata": {},
   "source": [
    "**Q8. List down some commonly used supervised learning algorithms and unsupervised learning algorithms.**"
   ]
  },
  {
   "cell_type": "markdown",
   "metadata": {},
   "source": [
    "Commonly used supervised learning algorithms:-\n",
    "1. Linear Regression\n",
    "2. Logistic Regression\n",
    "3. Decsion Tree\n",
    "4. Random Forest\n",
    "5. K Nearest Neighbours (K-NN)\n",
    "\n",
    "Commonly used unsupervised learning algorithms:-\n",
    "1. K-Means Clustering\n",
    "2. Hierarchial Clustering\n",
    "3. Gaussian Mixture Model (GMMs)\n",
    "4. Principal Component Analysis (PCA)\n",
    "5. Autoencoders"
   ]
  }
 ],
 "metadata": {
  "language_info": {
   "name": "python"
  },
  "orig_nbformat": 4
 },
 "nbformat": 4,
 "nbformat_minor": 2
}
